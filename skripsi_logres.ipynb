{
  "cells": [
    {
      "cell_type": "markdown",
      "metadata": {
        "id": "DapUkj3D-G94"
      },
      "source": [
        "# **Diabetes Prediction using Logistic Regression with SMOTE and Principal Component Analysis (PCA)**"
      ]
    },
    {
      "cell_type": "code",
      "execution_count": 4,
      "metadata": {
        "execution": {
          "iopub.execute_input": "2023-12-14T06:15:56.401748Z",
          "iopub.status.busy": "2023-12-14T06:15:56.401281Z",
          "iopub.status.idle": "2023-12-14T06:15:57.928494Z",
          "shell.execute_reply": "2023-12-14T06:15:57.927266Z",
          "shell.execute_reply.started": "2023-12-14T06:15:56.401718Z"
        },
        "id": "FEE_1aH4-G97",
        "trusted": true
      },
      "outputs": [],
      "source": [
        "import pandas as pd\n",
        "import numpy as np\n",
        "import matplotlib.pyplot as plt\n",
        "import seaborn as sns\n",
        "import pickle\n",
        "\n",
        "import warnings\n",
        "warnings.filterwarnings('ignore')"
      ]
    },
    {
      "cell_type": "code",
      "execution_count": 5,
      "metadata": {
        "colab": {
          "base_uri": "https://localhost:8080/",
          "height": 458
        },
        "execution": {
          "iopub.execute_input": "2023-12-14T06:15:57.931152Z",
          "iopub.status.busy": "2023-12-14T06:15:57.930645Z",
          "iopub.status.idle": "2023-12-14T06:15:57.981420Z",
          "shell.execute_reply": "2023-12-14T06:15:57.980075Z",
          "shell.execute_reply.started": "2023-12-14T06:15:57.931108Z"
        },
        "id": "GeQXp-dB-G98",
        "outputId": "ef7413e3-ccec-4659-c73c-c066f546b885",
        "trusted": true
      },
      "outputs": [
        {
          "data": {
            "text/html": [
              "<div>\n",
              "<style scoped>\n",
              "    .dataframe tbody tr th:only-of-type {\n",
              "        vertical-align: middle;\n",
              "    }\n",
              "\n",
              "    .dataframe tbody tr th {\n",
              "        vertical-align: top;\n",
              "    }\n",
              "\n",
              "    .dataframe thead th {\n",
              "        text-align: right;\n",
              "    }\n",
              "</style>\n",
              "<table border=\"1\" class=\"dataframe\">\n",
              "  <thead>\n",
              "    <tr style=\"text-align: right;\">\n",
              "      <th></th>\n",
              "      <th>Age</th>\n",
              "      <th>Gender</th>\n",
              "      <th>Polyuria</th>\n",
              "      <th>Polydipsia</th>\n",
              "      <th>sudden weight loss</th>\n",
              "      <th>weakness</th>\n",
              "      <th>Polyphagia</th>\n",
              "      <th>Genital thrush</th>\n",
              "      <th>visual blurring</th>\n",
              "      <th>Itching</th>\n",
              "      <th>Irritability</th>\n",
              "      <th>delayed healing</th>\n",
              "      <th>partial paresis</th>\n",
              "      <th>muscle stiffness</th>\n",
              "      <th>Alopecia</th>\n",
              "      <th>Obesity</th>\n",
              "      <th>class</th>\n",
              "    </tr>\n",
              "  </thead>\n",
              "  <tbody>\n",
              "    <tr>\n",
              "      <th>0</th>\n",
              "      <td>40</td>\n",
              "      <td>Male</td>\n",
              "      <td>No</td>\n",
              "      <td>Yes</td>\n",
              "      <td>No</td>\n",
              "      <td>Yes</td>\n",
              "      <td>No</td>\n",
              "      <td>No</td>\n",
              "      <td>No</td>\n",
              "      <td>Yes</td>\n",
              "      <td>No</td>\n",
              "      <td>Yes</td>\n",
              "      <td>No</td>\n",
              "      <td>Yes</td>\n",
              "      <td>Yes</td>\n",
              "      <td>Yes</td>\n",
              "      <td>Positive</td>\n",
              "    </tr>\n",
              "    <tr>\n",
              "      <th>1</th>\n",
              "      <td>58</td>\n",
              "      <td>Male</td>\n",
              "      <td>No</td>\n",
              "      <td>No</td>\n",
              "      <td>No</td>\n",
              "      <td>Yes</td>\n",
              "      <td>No</td>\n",
              "      <td>No</td>\n",
              "      <td>Yes</td>\n",
              "      <td>No</td>\n",
              "      <td>No</td>\n",
              "      <td>No</td>\n",
              "      <td>Yes</td>\n",
              "      <td>No</td>\n",
              "      <td>Yes</td>\n",
              "      <td>No</td>\n",
              "      <td>Positive</td>\n",
              "    </tr>\n",
              "    <tr>\n",
              "      <th>2</th>\n",
              "      <td>41</td>\n",
              "      <td>Male</td>\n",
              "      <td>Yes</td>\n",
              "      <td>No</td>\n",
              "      <td>No</td>\n",
              "      <td>Yes</td>\n",
              "      <td>Yes</td>\n",
              "      <td>No</td>\n",
              "      <td>No</td>\n",
              "      <td>Yes</td>\n",
              "      <td>No</td>\n",
              "      <td>Yes</td>\n",
              "      <td>No</td>\n",
              "      <td>Yes</td>\n",
              "      <td>Yes</td>\n",
              "      <td>No</td>\n",
              "      <td>Positive</td>\n",
              "    </tr>\n",
              "    <tr>\n",
              "      <th>3</th>\n",
              "      <td>45</td>\n",
              "      <td>Male</td>\n",
              "      <td>No</td>\n",
              "      <td>No</td>\n",
              "      <td>Yes</td>\n",
              "      <td>Yes</td>\n",
              "      <td>Yes</td>\n",
              "      <td>Yes</td>\n",
              "      <td>No</td>\n",
              "      <td>Yes</td>\n",
              "      <td>No</td>\n",
              "      <td>Yes</td>\n",
              "      <td>No</td>\n",
              "      <td>No</td>\n",
              "      <td>No</td>\n",
              "      <td>No</td>\n",
              "      <td>Positive</td>\n",
              "    </tr>\n",
              "    <tr>\n",
              "      <th>4</th>\n",
              "      <td>60</td>\n",
              "      <td>Male</td>\n",
              "      <td>Yes</td>\n",
              "      <td>Yes</td>\n",
              "      <td>Yes</td>\n",
              "      <td>Yes</td>\n",
              "      <td>Yes</td>\n",
              "      <td>No</td>\n",
              "      <td>Yes</td>\n",
              "      <td>Yes</td>\n",
              "      <td>Yes</td>\n",
              "      <td>Yes</td>\n",
              "      <td>Yes</td>\n",
              "      <td>Yes</td>\n",
              "      <td>Yes</td>\n",
              "      <td>Yes</td>\n",
              "      <td>Positive</td>\n",
              "    </tr>\n",
              "    <tr>\n",
              "      <th>...</th>\n",
              "      <td>...</td>\n",
              "      <td>...</td>\n",
              "      <td>...</td>\n",
              "      <td>...</td>\n",
              "      <td>...</td>\n",
              "      <td>...</td>\n",
              "      <td>...</td>\n",
              "      <td>...</td>\n",
              "      <td>...</td>\n",
              "      <td>...</td>\n",
              "      <td>...</td>\n",
              "      <td>...</td>\n",
              "      <td>...</td>\n",
              "      <td>...</td>\n",
              "      <td>...</td>\n",
              "      <td>...</td>\n",
              "      <td>...</td>\n",
              "    </tr>\n",
              "    <tr>\n",
              "      <th>515</th>\n",
              "      <td>39</td>\n",
              "      <td>Female</td>\n",
              "      <td>Yes</td>\n",
              "      <td>Yes</td>\n",
              "      <td>Yes</td>\n",
              "      <td>No</td>\n",
              "      <td>Yes</td>\n",
              "      <td>No</td>\n",
              "      <td>No</td>\n",
              "      <td>Yes</td>\n",
              "      <td>No</td>\n",
              "      <td>Yes</td>\n",
              "      <td>Yes</td>\n",
              "      <td>No</td>\n",
              "      <td>No</td>\n",
              "      <td>No</td>\n",
              "      <td>Positive</td>\n",
              "    </tr>\n",
              "    <tr>\n",
              "      <th>516</th>\n",
              "      <td>48</td>\n",
              "      <td>Female</td>\n",
              "      <td>Yes</td>\n",
              "      <td>Yes</td>\n",
              "      <td>Yes</td>\n",
              "      <td>Yes</td>\n",
              "      <td>Yes</td>\n",
              "      <td>No</td>\n",
              "      <td>No</td>\n",
              "      <td>Yes</td>\n",
              "      <td>Yes</td>\n",
              "      <td>Yes</td>\n",
              "      <td>Yes</td>\n",
              "      <td>No</td>\n",
              "      <td>No</td>\n",
              "      <td>No</td>\n",
              "      <td>Positive</td>\n",
              "    </tr>\n",
              "    <tr>\n",
              "      <th>517</th>\n",
              "      <td>58</td>\n",
              "      <td>Female</td>\n",
              "      <td>Yes</td>\n",
              "      <td>Yes</td>\n",
              "      <td>Yes</td>\n",
              "      <td>Yes</td>\n",
              "      <td>Yes</td>\n",
              "      <td>No</td>\n",
              "      <td>Yes</td>\n",
              "      <td>No</td>\n",
              "      <td>No</td>\n",
              "      <td>No</td>\n",
              "      <td>Yes</td>\n",
              "      <td>Yes</td>\n",
              "      <td>No</td>\n",
              "      <td>Yes</td>\n",
              "      <td>Positive</td>\n",
              "    </tr>\n",
              "    <tr>\n",
              "      <th>518</th>\n",
              "      <td>32</td>\n",
              "      <td>Female</td>\n",
              "      <td>No</td>\n",
              "      <td>No</td>\n",
              "      <td>No</td>\n",
              "      <td>Yes</td>\n",
              "      <td>No</td>\n",
              "      <td>No</td>\n",
              "      <td>Yes</td>\n",
              "      <td>Yes</td>\n",
              "      <td>No</td>\n",
              "      <td>Yes</td>\n",
              "      <td>No</td>\n",
              "      <td>No</td>\n",
              "      <td>Yes</td>\n",
              "      <td>No</td>\n",
              "      <td>Negative</td>\n",
              "    </tr>\n",
              "    <tr>\n",
              "      <th>519</th>\n",
              "      <td>42</td>\n",
              "      <td>Male</td>\n",
              "      <td>No</td>\n",
              "      <td>No</td>\n",
              "      <td>No</td>\n",
              "      <td>No</td>\n",
              "      <td>No</td>\n",
              "      <td>No</td>\n",
              "      <td>No</td>\n",
              "      <td>No</td>\n",
              "      <td>No</td>\n",
              "      <td>No</td>\n",
              "      <td>No</td>\n",
              "      <td>No</td>\n",
              "      <td>No</td>\n",
              "      <td>No</td>\n",
              "      <td>Negative</td>\n",
              "    </tr>\n",
              "  </tbody>\n",
              "</table>\n",
              "<p>520 rows × 17 columns</p>\n",
              "</div>"
            ],
            "text/plain": [
              "     Age  Gender Polyuria Polydipsia sudden weight loss weakness Polyphagia  \\\n",
              "0     40    Male       No        Yes                 No      Yes         No   \n",
              "1     58    Male       No         No                 No      Yes         No   \n",
              "2     41    Male      Yes         No                 No      Yes        Yes   \n",
              "3     45    Male       No         No                Yes      Yes        Yes   \n",
              "4     60    Male      Yes        Yes                Yes      Yes        Yes   \n",
              "..   ...     ...      ...        ...                ...      ...        ...   \n",
              "515   39  Female      Yes        Yes                Yes       No        Yes   \n",
              "516   48  Female      Yes        Yes                Yes      Yes        Yes   \n",
              "517   58  Female      Yes        Yes                Yes      Yes        Yes   \n",
              "518   32  Female       No         No                 No      Yes         No   \n",
              "519   42    Male       No         No                 No       No         No   \n",
              "\n",
              "    Genital thrush visual blurring Itching Irritability delayed healing  \\\n",
              "0               No              No     Yes           No             Yes   \n",
              "1               No             Yes      No           No              No   \n",
              "2               No              No     Yes           No             Yes   \n",
              "3              Yes              No     Yes           No             Yes   \n",
              "4               No             Yes     Yes          Yes             Yes   \n",
              "..             ...             ...     ...          ...             ...   \n",
              "515             No              No     Yes           No             Yes   \n",
              "516             No              No     Yes          Yes             Yes   \n",
              "517             No             Yes      No           No              No   \n",
              "518             No             Yes     Yes           No             Yes   \n",
              "519             No              No      No           No              No   \n",
              "\n",
              "    partial paresis muscle stiffness Alopecia Obesity     class  \n",
              "0                No              Yes      Yes     Yes  Positive  \n",
              "1               Yes               No      Yes      No  Positive  \n",
              "2                No              Yes      Yes      No  Positive  \n",
              "3                No               No       No      No  Positive  \n",
              "4               Yes              Yes      Yes     Yes  Positive  \n",
              "..              ...              ...      ...     ...       ...  \n",
              "515             Yes               No       No      No  Positive  \n",
              "516             Yes               No       No      No  Positive  \n",
              "517             Yes              Yes       No     Yes  Positive  \n",
              "518              No               No      Yes      No  Negative  \n",
              "519              No               No       No      No  Negative  \n",
              "\n",
              "[520 rows x 17 columns]"
            ]
          },
          "execution_count": 5,
          "metadata": {},
          "output_type": "execute_result"
        }
      ],
      "source": [
        "# Reading dataset\n",
        "df = pd.read_csv(\"diabetes_early.csv\")\n",
        "df"
      ]
    },
    {
      "cell_type": "code",
      "execution_count": 6,
      "metadata": {
        "colab": {
          "base_uri": "https://localhost:8080/"
        },
        "execution": {
          "iopub.execute_input": "2023-12-14T06:15:57.985342Z",
          "iopub.status.busy": "2023-12-14T06:15:57.984839Z",
          "iopub.status.idle": "2023-12-14T06:15:58.017674Z",
          "shell.execute_reply": "2023-12-14T06:15:58.016255Z",
          "shell.execute_reply.started": "2023-12-14T06:15:57.985299Z"
        },
        "id": "Asr6JuaA-G98",
        "outputId": "ac180a94-7cf9-45d0-b153-c9841e5b3e13",
        "trusted": true
      },
      "outputs": [
        {
          "name": "stdout",
          "output_type": "stream",
          "text": [
            "<class 'pandas.core.frame.DataFrame'>\n",
            "RangeIndex: 520 entries, 0 to 519\n",
            "Data columns (total 17 columns):\n",
            " #   Column              Non-Null Count  Dtype \n",
            "---  ------              --------------  ----- \n",
            " 0   Age                 520 non-null    int64 \n",
            " 1   Gender              520 non-null    object\n",
            " 2   Polyuria            520 non-null    object\n",
            " 3   Polydipsia          520 non-null    object\n",
            " 4   sudden weight loss  520 non-null    object\n",
            " 5   weakness            520 non-null    object\n",
            " 6   Polyphagia          520 non-null    object\n",
            " 7   Genital thrush      520 non-null    object\n",
            " 8   visual blurring     520 non-null    object\n",
            " 9   Itching             520 non-null    object\n",
            " 10  Irritability        520 non-null    object\n",
            " 11  delayed healing     520 non-null    object\n",
            " 12  partial paresis     520 non-null    object\n",
            " 13  muscle stiffness    520 non-null    object\n",
            " 14  Alopecia            520 non-null    object\n",
            " 15  Obesity             520 non-null    object\n",
            " 16  class               520 non-null    object\n",
            "dtypes: int64(1), object(16)\n",
            "memory usage: 69.2+ KB\n"
          ]
        }
      ],
      "source": [
        "# Getting general information about the data set\n",
        "df.info()"
      ]
    },
    {
      "cell_type": "markdown",
      "metadata": {
        "id": "3gQ1yHSJ-G99"
      },
      "source": [
        "## **EDA**"
      ]
    },
    {
      "cell_type": "code",
      "execution_count": 7,
      "metadata": {
        "colab": {
          "base_uri": "https://localhost:8080/",
          "height": 122
        },
        "execution": {
          "iopub.execute_input": "2023-12-14T06:15:58.071362Z",
          "iopub.status.busy": "2023-12-14T06:15:58.070416Z",
          "iopub.status.idle": "2023-12-14T06:15:58.094421Z",
          "shell.execute_reply": "2023-12-14T06:15:58.093436Z",
          "shell.execute_reply.started": "2023-12-14T06:15:58.071327Z"
        },
        "id": "Hr1zsuXl-G9_",
        "outputId": "bea3f947-396a-4063-8661-da7fc7a1bfd1",
        "trusted": true
      },
      "outputs": [
        {
          "data": {
            "image/png": "[encoded data removed]",
            "text/html": [
              "<div style=\"vertical-align: middle;\"><strong>Blues</strong> </div><div class=\"cmap\"><img alt=\"Blues colormap\" title=\"Blues\" style=\"border: 1px solid #555;\" src=\"data:image/png;base64,iVBORw0KGgoAAAANSUhEUgAAAgAAAABACAYAAABsv8+/AAAAFHRFWHRUaXRsZQBCbHVlcyBjb2xvcm1hcIbbCAEAAAAadEVYdERlc2NyaXB0aW9uAEJsdWVzIGNvbG9ybWFweISh5wAAADB0RVh0QXV0aG9yAE1hdHBsb3RsaWIgdjMuOC4wLCBodHRwczovL21hdHBsb3RsaWIub3Jnn3P4TwAAADJ0RVh0U29mdHdhcmUATWF0cGxvdGxpYiB2My44LjAsIGh0dHBzOi8vbWF0cGxvdGxpYi5vcmex1WdoAAAB00lEQVR4nO3WwU7rMAAAQcP//y8HpIQDJQi3Vopa3uHtzCVynDhxCdK+vL3v+xhj7J+HcTmMy+E4P47x7fnjqgfnp8ct57/Xe2z+3v397/Pz77ON+XvYfze/OP81vn/+9ntuV+89z6/2d1l/Hh/X397fdhwX+5zWOV3/5Pz8HqfXLe9fvN/8+yzuv/p7zPNX+zj5Ts6et1pvsY9717v6bk72cz4+2df2rOf87rmPr/vzH281f+91z1rnr5439u3rhp/jbRqvrnv6+F8953P8OgCAHAEAAEECAACCBAAABAkAAAgSAAAQJAAAIEgAAECQAACAIAEAAEECAACCBAAABAkAAAgSAAAQJAAAIEgAAECQAACAIAEAAEECAACCBAAABAkAAAgSAAAQJAAAIEgAAECQAACAIAEAAEECAACCBAAABAkAAAgSAAAQJAAAIEgAAECQAACAIAEAAEECAACCBAAABAkAAAgSAAAQJAAAIEgAAECQAACAIAEAAEECAACCBAAABAkAAAgSAAAQJAAAIEgAAECQAACAIAEAAEECAACCBAAABAkAAAgSAAAQJAAAIEgAAECQAACAIAEAAEECAACCBAAABAkAAAgSAAAQJAAAIOgDfCcYQIPsTRMAAAAASUVORK5CYII=\"></div><div style=\"vertical-align: middle; max-width: 514px; display: flex; justify-content: space-between;\"><div style=\"float: left;\"><div title=\"#f7fbffff\" style=\"display: inline-block; width: 1em; height: 1em; margin: 0; vertical-align: middle; border: 1px solid #555; background-color: #f7fbffff;\"></div> under</div><div style=\"margin: 0 auto; display: inline-block;\">bad <div title=\"#00000000\" style=\"display: inline-block; width: 1em; height: 1em; margin: 0; vertical-align: middle; border: 1px solid #555; background-color: #00000000;\"></div></div><div style=\"float: right;\">over <div title=\"#08306bff\" style=\"display: inline-block; width: 1em; height: 1em; margin: 0; vertical-align: middle; border: 1px solid #555; background-color: #08306bff;\"></div></div>"
            ],
            "text/plain": [
              "<matplotlib.colors.LinearSegmentedColormap at 0x285d079bb50>"
            ]
          },
          "execution_count": 7,
          "metadata": {},
          "output_type": "execute_result"
        }
      ],
      "source": [
        "sns.color_palette(\"Blues\", as_cmap=True)"
      ]
    },
    {
      "cell_type": "code",
      "execution_count": 8,
      "metadata": {
        "colab": {
          "base_uri": "https://localhost:8080/",
          "height": 219
        },
        "execution": {
          "iopub.execute_input": "2023-12-14T06:15:58.096644Z",
          "iopub.status.busy": "2023-12-14T06:15:58.095622Z",
          "iopub.status.idle": "2023-12-14T06:15:58.508723Z",
          "shell.execute_reply": "2023-12-14T06:15:58.507539Z",
          "shell.execute_reply.started": "2023-12-14T06:15:58.096607Z"
        },
        "id": "AVXL177d-G-A",
        "outputId": "75ec61a6-d61b-4d0f-9164-c5d71dc1235f",
        "trusted": true
      },
      "outputs": [
        {
          "data": {
            "image/png": "[encoded data removed]",
            "text/plain": [
              "<Figure size 1000x100 with 1 Axes>"
            ]
          },
          "metadata": {},
          "output_type": "display_data"
        },
        {
          "data": {
            "image/png": "[encoded data removed]",
            "text/plain": [
              "<Figure size 1000x100 with 1 Axes>"
            ]
          },
          "metadata": {},
          "output_type": "display_data"
        }
      ],
      "source": [
        "GnBu_palette = sns.color_palette(\"GnBu\",10)\n",
        "Blues_palette = sns.color_palette(\"Blues\",10)\n",
        "sns.palplot(Blues_palette)\n",
        "sns.palplot(GnBu_palette)"
      ]
    },
    {
      "cell_type": "code",
      "execution_count": 9,
      "metadata": {
        "colab": {
          "base_uri": "https://localhost:8080/",
          "height": 501
        },
        "execution": {
          "iopub.execute_input": "2023-12-14T06:15:58.511436Z",
          "iopub.status.busy": "2023-12-14T06:15:58.510693Z",
          "iopub.status.idle": "2023-12-14T06:15:58.908698Z",
          "shell.execute_reply": "2023-12-14T06:15:58.907021Z",
          "shell.execute_reply.started": "2023-12-14T06:15:58.511388Z"
        },
        "id": "2tlP0wJp-G-A",
        "outputId": "98d97da7-4e67-471f-c80b-b84c6d6dfc2d",
        "trusted": true
      },
      "outputs": [
        {
          "data": {
            "image/png": "[encoded data removed]",
            "text/plain": [
              "<Figure size 640x480 with 1 Axes>"
            ]
          },
          "metadata": {},
          "output_type": "display_data"
        }
      ],
      "source": [
        "#Evaluating target variable distribution\n",
        "fig, ax = plt.subplots()\n",
        "df['class'].value_counts().plot(kind='bar')\n",
        "ax.set_title('Distribusi Diabetes')\n",
        "ax.bar_label(ax.containers[0], label_type='center')\n",
        "\n",
        "plt.show()"
      ]
    },
    {
      "cell_type": "code",
      "execution_count": 10,
      "metadata": {
        "colab": {
          "base_uri": "https://localhost:8080/",
          "height": 433
        },
        "id": "K5H0gTuxFvWe",
        "outputId": "620d0c10-bb36-4c6e-9070-def79d1e61ec"
      },
      "outputs": [
        {
          "data": {
            "image/png": "[encoded data removed]",
            "text/plain": [
              "<Figure size 640x480 with 1 Axes>"
            ]
          },
          "metadata": {},
          "output_type": "display_data"
        }
      ],
      "source": [
        "sns.boxplot(y=df['Age'])\n",
        "plt.title('Outlier Usia')\n",
        "plt.show()"
      ]
    },
    {
      "cell_type": "markdown",
      "metadata": {
        "id": "yKJFhqHq-G-C"
      },
      "source": [
        "## **Data Cleaning & Data Processing**"
      ]
    },
    {
      "cell_type": "markdown",
      "metadata": {
        "id": "XFolPD3NRSzO"
      },
      "source": [
        "### Label Encoding"
      ]
    },
    {
      "cell_type": "code",
      "execution_count": 11,
      "metadata": {
        "id": "Kbq4X0gbRY4L"
      },
      "outputs": [],
      "source": [
        "from sklearn.preprocessing import LabelEncoder\n",
        "\n",
        "# Inisialisasi LabelEncoder\n",
        "label_encoder = LabelEncoder()\n",
        "\n",
        "# List kolom yang akan di-encode (semua kecuali 'Age')\n",
        "columns_to_encode = df.columns[df.columns != 'Age']\n",
        "\n",
        "# Mengkodekan variabel kategori ke bentuk numerik menggunakan LabelEncoder\n",
        "for column in columns_to_encode:\n",
        "    df[column] = label_encoder.fit_transform(df[column])"
      ]
    },
    {
      "cell_type": "code",
      "execution_count": 12,
      "metadata": {
        "colab": {
          "base_uri": "https://localhost:8080/",
          "height": 458
        },
        "id": "asIi0ZxhRbAN",
        "outputId": "51d42b13-62d1-4e6e-90d5-15d9b4223da5"
      },
      "outputs": [
        {
          "data": {
            "text/html": [
              "<div>\n",
              "<style scoped>\n",
              "    .dataframe tbody tr th:only-of-type {\n",
              "        vertical-align: middle;\n",
              "    }\n",
              "\n",
              "    .dataframe tbody tr th {\n",
              "        vertical-align: top;\n",
              "    }\n",
              "\n",
              "    .dataframe thead th {\n",
              "        text-align: right;\n",
              "    }\n",
              "</style>\n",
              "<table border=\"1\" class=\"dataframe\">\n",
              "  <thead>\n",
              "    <tr style=\"text-align: right;\">\n",
              "      <th></th>\n",
              "      <th>Age</th>\n",
              "      <th>Gender</th>\n",
              "      <th>Polyuria</th>\n",
              "      <th>Polydipsia</th>\n",
              "      <th>sudden weight loss</th>\n",
              "      <th>weakness</th>\n",
              "      <th>Polyphagia</th>\n",
              "      <th>Genital thrush</th>\n",
              "      <th>visual blurring</th>\n",
              "      <th>Itching</th>\n",
              "      <th>Irritability</th>\n",
              "      <th>delayed healing</th>\n",
              "      <th>partial paresis</th>\n",
              "      <th>muscle stiffness</th>\n",
              "      <th>Alopecia</th>\n",
              "      <th>Obesity</th>\n",
              "      <th>class</th>\n",
              "    </tr>\n",
              "  </thead>\n",
              "  <tbody>\n",
              "    <tr>\n",
              "      <th>0</th>\n",
              "      <td>40</td>\n",
              "      <td>1</td>\n",
              "      <td>0</td>\n",
              "      <td>1</td>\n",
              "      <td>0</td>\n",
              "      <td>1</td>\n",
              "      <td>0</td>\n",
              "      <td>0</td>\n",
              "      <td>0</td>\n",
              "      <td>1</td>\n",
              "      <td>0</td>\n",
              "      <td>1</td>\n",
              "      <td>0</td>\n",
              "      <td>1</td>\n",
              "      <td>1</td>\n",
              "      <td>1</td>\n",
              "      <td>1</td>\n",
              "    </tr>\n",
              "    <tr>\n",
              "      <th>1</th>\n",
              "      <td>58</td>\n",
              "      <td>1</td>\n",
              "      <td>0</td>\n",
              "      <td>0</td>\n",
              "      <td>0</td>\n",
              "      <td>1</td>\n",
              "      <td>0</td>\n",
              "      <td>0</td>\n",
              "      <td>1</td>\n",
              "      <td>0</td>\n",
              "      <td>0</td>\n",
              "      <td>0</td>\n",
              "      <td>1</td>\n",
              "      <td>0</td>\n",
              "      <td>1</td>\n",
              "      <td>0</td>\n",
              "      <td>1</td>\n",
              "    </tr>\n",
              "    <tr>\n",
              "      <th>2</th>\n",
              "      <td>41</td>\n",
              "      <td>1</td>\n",
              "      <td>1</td>\n",
              "      <td>0</td>\n",
              "      <td>0</td>\n",
              "      <td>1</td>\n",
              "      <td>1</td>\n",
              "      <td>0</td>\n",
              "      <td>0</td>\n",
              "      <td>1</td>\n",
              "      <td>0</td>\n",
              "      <td>1</td>\n",
              "      <td>0</td>\n",
              "      <td>1</td>\n",
              "      <td>1</td>\n",
              "      <td>0</td>\n",
              "      <td>1</td>\n",
              "    </tr>\n",
              "    <tr>\n",
              "      <th>3</th>\n",
              "      <td>45</td>\n",
              "      <td>1</td>\n",
              "      <td>0</td>\n",
              "      <td>0</td>\n",
              "      <td>1</td>\n",
              "      <td>1</td>\n",
              "      <td>1</td>\n",
              "      <td>1</td>\n",
              "      <td>0</td>\n",
              "      <td>1</td>\n",
              "      <td>0</td>\n",
              "      <td>1</td>\n",
              "      <td>0</td>\n",
              "      <td>0</td>\n",
              "      <td>0</td>\n",
              "      <td>0</td>\n",
              "      <td>1</td>\n",
              "    </tr>\n",
              "    <tr>\n",
              "      <th>4</th>\n",
              "      <td>60</td>\n",
              "      <td>1</td>\n",
              "      <td>1</td>\n",
              "      <td>1</td>\n",
              "      <td>1</td>\n",
              "      <td>1</td>\n",
              "      <td>1</td>\n",
              "      <td>0</td>\n",
              "      <td>1</td>\n",
              "      <td>1</td>\n",
              "      <td>1</td>\n",
              "      <td>1</td>\n",
              "      <td>1</td>\n",
              "      <td>1</td>\n",
              "      <td>1</td>\n",
              "      <td>1</td>\n",
              "      <td>1</td>\n",
              "    </tr>\n",
              "    <tr>\n",
              "      <th>...</th>\n",
              "      <td>...</td>\n",
              "      <td>...</td>\n",
              "      <td>...</td>\n",
              "      <td>...</td>\n",
              "      <td>...</td>\n",
              "      <td>...</td>\n",
              "      <td>...</td>\n",
              "      <td>...</td>\n",
              "      <td>...</td>\n",
              "      <td>...</td>\n",
              "      <td>...</td>\n",
              "      <td>...</td>\n",
              "      <td>...</td>\n",
              "      <td>...</td>\n",
              "      <td>...</td>\n",
              "      <td>...</td>\n",
              "      <td>...</td>\n",
              "    </tr>\n",
              "    <tr>\n",
              "      <th>515</th>\n",
              "      <td>39</td>\n",
              "      <td>0</td>\n",
              "      <td>1</td>\n",
              "      <td>1</td>\n",
              "      <td>1</td>\n",
              "      <td>0</td>\n",
              "      <td>1</td>\n",
              "      <td>0</td>\n",
              "      <td>0</td>\n",
              "      <td>1</td>\n",
              "      <td>0</td>\n",
              "      <td>1</td>\n",
              "      <td>1</td>\n",
              "      <td>0</td>\n",
              "      <td>0</td>\n",
              "      <td>0</td>\n",
              "      <td>1</td>\n",
              "    </tr>\n",
              "    <tr>\n",
              "      <th>516</th>\n",
              "      <td>48</td>\n",
              "      <td>0</td>\n",
              "      <td>1</td>\n",
              "      <td>1</td>\n",
              "      <td>1</td>\n",
              "      <td>1</td>\n",
              "      <td>1</td>\n",
              "      <td>0</td>\n",
              "      <td>0</td>\n",
              "      <td>1</td>\n",
              "      <td>1</td>\n",
              "      <td>1</td>\n",
              "      <td>1</td>\n",
              "      <td>0</td>\n",
              "      <td>0</td>\n",
              "      <td>0</td>\n",
              "      <td>1</td>\n",
              "    </tr>\n",
              "    <tr>\n",
              "      <th>517</th>\n",
              "      <td>58</td>\n",
              "      <td>0</td>\n",
              "      <td>1</td>\n",
              "      <td>1</td>\n",
              "      <td>1</td>\n",
              "      <td>1</td>\n",
              "      <td>1</td>\n",
              "      <td>0</td>\n",
              "      <td>1</td>\n",
              "      <td>0</td>\n",
              "      <td>0</td>\n",
              "      <td>0</td>\n",
              "      <td>1</td>\n",
              "      <td>1</td>\n",
              "      <td>0</td>\n",
              "      <td>1</td>\n",
              "      <td>1</td>\n",
              "    </tr>\n",
              "    <tr>\n",
              "      <th>518</th>\n",
              "      <td>32</td>\n",
              "      <td>0</td>\n",
              "      <td>0</td>\n",
              "      <td>0</td>\n",
              "      <td>0</td>\n",
              "      <td>1</td>\n",
              "      <td>0</td>\n",
              "      <td>0</td>\n",
              "      <td>1</td>\n",
              "      <td>1</td>\n",
              "      <td>0</td>\n",
              "      <td>1</td>\n",
              "      <td>0</td>\n",
              "      <td>0</td>\n",
              "      <td>1</td>\n",
              "      <td>0</td>\n",
              "      <td>0</td>\n",
              "    </tr>\n",
              "    <tr>\n",
              "      <th>519</th>\n",
              "      <td>42</td>\n",
              "      <td>1</td>\n",
              "      <td>0</td>\n",
              "      <td>0</td>\n",
              "      <td>0</td>\n",
              "      <td>0</td>\n",
              "      <td>0</td>\n",
              "      <td>0</td>\n",
              "      <td>0</td>\n",
              "      <td>0</td>\n",
              "      <td>0</td>\n",
              "      <td>0</td>\n",
              "      <td>0</td>\n",
              "      <td>0</td>\n",
              "      <td>0</td>\n",
              "      <td>0</td>\n",
              "      <td>0</td>\n",
              "    </tr>\n",
              "  </tbody>\n",
              "</table>\n",
              "<p>520 rows × 17 columns</p>\n",
              "</div>"
            ],
            "text/plain": [
              "     Age  Gender  Polyuria  Polydipsia  sudden weight loss  weakness  \\\n",
              "0     40       1         0           1                   0         1   \n",
              "1     58       1         0           0                   0         1   \n",
              "2     41       1         1           0                   0         1   \n",
              "3     45       1         0           0                   1         1   \n",
              "4     60       1         1           1                   1         1   \n",
              "..   ...     ...       ...         ...                 ...       ...   \n",
              "515   39       0         1           1                   1         0   \n",
              "516   48       0         1           1                   1         1   \n",
              "517   58       0         1           1                   1         1   \n",
              "518   32       0         0           0                   0         1   \n",
              "519   42       1         0           0                   0         0   \n",
              "\n",
              "     Polyphagia  Genital thrush  visual blurring  Itching  Irritability  \\\n",
              "0             0               0                0        1             0   \n",
              "1             0               0                1        0             0   \n",
              "2             1               0                0        1             0   \n",
              "3             1               1                0        1             0   \n",
              "4             1               0                1        1             1   \n",
              "..          ...             ...              ...      ...           ...   \n",
              "515           1               0                0        1             0   \n",
              "516           1               0                0        1             1   \n",
              "517           1               0                1        0             0   \n",
              "518           0               0                1        1             0   \n",
              "519           0               0                0        0             0   \n",
              "\n",
              "     delayed healing  partial paresis  muscle stiffness  Alopecia  Obesity  \\\n",
              "0                  1                0                 1         1        1   \n",
              "1                  0                1                 0         1        0   \n",
              "2                  1                0                 1         1        0   \n",
              "3                  1                0                 0         0        0   \n",
              "4                  1                1                 1         1        1   \n",
              "..               ...              ...               ...       ...      ...   \n",
              "515                1                1                 0         0        0   \n",
              "516                1                1                 0         0        0   \n",
              "517                0                1                 1         0        1   \n",
              "518                1                0                 0         1        0   \n",
              "519                0                0                 0         0        0   \n",
              "\n",
              "     class  \n",
              "0        1  \n",
              "1        1  \n",
              "2        1  \n",
              "3        1  \n",
              "4        1  \n",
              "..     ...  \n",
              "515      1  \n",
              "516      1  \n",
              "517      1  \n",
              "518      0  \n",
              "519      0  \n",
              "\n",
              "[520 rows x 17 columns]"
            ]
          },
          "execution_count": 12,
          "metadata": {},
          "output_type": "execute_result"
        }
      ],
      "source": [
        "df"
      ]
    },
    {
      "cell_type": "markdown",
      "metadata": {
        "id": "WbLYF_bZFP-Z"
      },
      "source": [
        "### Feature Engineering"
      ]
    },
    {
      "cell_type": "code",
      "execution_count": 13,
      "metadata": {
        "colab": {
          "base_uri": "https://localhost:8080/",
          "height": 972
        },
        "id": "PvUpYG3MRDEw",
        "outputId": "cdd33482-1928-4a6e-94c9-c4963e0665fd"
      },
      "outputs": [
        {
          "data": {
            "image/png": "[encoded data removed]",
            "text/plain": [
              "<Figure size 1200x1000 with 2 Axes>"
            ]
          },
          "metadata": {},
          "output_type": "display_data"
        }
      ],
      "source": [
        "correlation_matrix = df.corr()\n",
        "\n",
        "plt.figure(figsize=(12, 10))\n",
        "sns.heatmap(correlation_matrix, annot=True, cmap='coolwarm', fmt=\".2f\")\n",
        "plt.title(\"Correlation Heatmap\")\n",
        "plt.show()"
      ]
    },
    {
      "cell_type": "code",
      "execution_count": 14,
      "metadata": {
        "colab": {
          "base_uri": "https://localhost:8080/"
        },
        "id": "QG-8c7geKLKS",
        "outputId": "3f56de46-fc89-44e6-88c3-f8e8b41f7cd5"
      },
      "outputs": [
        {
          "name": "stdout",
          "output_type": "stream",
          "text": [
            "Range atas untuk kolom Age: 90\n",
            "Range bawah untuk kolom Age: 16\n"
          ]
        }
      ],
      "source": [
        "max_value = df['Age'].max()\n",
        "min_value = df['Age'].min()\n",
        "\n",
        "print(f\"Range atas untuk kolom Age: {max_value}\")\n",
        "print(f\"Range bawah untuk kolom Age: {min_value}\")"
      ]
    },
    {
      "cell_type": "code",
      "execution_count": 15,
      "metadata": {
        "id": "2FppoYvLKakf"
      },
      "outputs": [],
      "source": [
        "df.loc[(df['Age'] >= 16) & (df['Age'] <= 25), 'Age_Category'] = 1\n",
        "df.loc[(df['Age'] > 25) & (df['Age'] <= 35), 'Age_Category'] = 2\n",
        "df.loc[(df['Age'] > 35) & (df['Age'] <= 45), 'Age_Category'] = 3\n",
        "df.loc[(df['Age'] > 45) & (df['Age'] <= 55), 'Age_Category'] = 4\n",
        "df.loc[(df['Age'] > 55) & (df['Age'] <= 65), 'Age_Category'] = 5\n",
        "df.loc[(df['Age'] > 65) & (df['Age'] <= 75), 'Age_Category'] = 6\n",
        "df.loc[(df['Age'] > 75) & (df['Age'] <= 85), 'Age_Category'] = 7\n",
        "df.loc[df['Age'] > 85, 'Age_Category'] = 8\n",
        "\n",
        "df.drop(['Age'],axis = 1, inplace = True)\n",
        "\n",
        "# 'Polyuria' dan 'Polydipsia' merupakan dua variabel yang berkorelasi tinggi\n",
        "df['PolyInteraction'] = df['Polyuria'] * df['Polydipsia']"
      ]
    },
    {
      "cell_type": "code",
      "execution_count": 16,
      "metadata": {
        "colab": {
          "base_uri": "https://localhost:8080/",
          "height": 478
        },
        "id": "KT1sfredSfnF",
        "outputId": "cc5fcc59-b36f-45cf-a4e0-74f4e29d9de8"
      },
      "outputs": [
        {
          "data": {
            "text/html": [
              "<div>\n",
              "<style scoped>\n",
              "    .dataframe tbody tr th:only-of-type {\n",
              "        vertical-align: middle;\n",
              "    }\n",
              "\n",
              "    .dataframe tbody tr th {\n",
              "        vertical-align: top;\n",
              "    }\n",
              "\n",
              "    .dataframe thead th {\n",
              "        text-align: right;\n",
              "    }\n",
              "</style>\n",
              "<table border=\"1\" class=\"dataframe\">\n",
              "  <thead>\n",
              "    <tr style=\"text-align: right;\">\n",
              "      <th></th>\n",
              "      <th>Gender</th>\n",
              "      <th>Polyuria</th>\n",
              "      <th>Polydipsia</th>\n",
              "      <th>sudden weight loss</th>\n",
              "      <th>weakness</th>\n",
              "      <th>Polyphagia</th>\n",
              "      <th>Genital thrush</th>\n",
              "      <th>visual blurring</th>\n",
              "      <th>Itching</th>\n",
              "      <th>Irritability</th>\n",
              "      <th>delayed healing</th>\n",
              "      <th>partial paresis</th>\n",
              "      <th>muscle stiffness</th>\n",
              "      <th>Alopecia</th>\n",
              "      <th>Obesity</th>\n",
              "      <th>class</th>\n",
              "      <th>Age_Category</th>\n",
              "      <th>PolyInteraction</th>\n",
              "    </tr>\n",
              "  </thead>\n",
              "  <tbody>\n",
              "    <tr>\n",
              "      <th>0</th>\n",
              "      <td>1</td>\n",
              "      <td>0</td>\n",
              "      <td>1</td>\n",
              "      <td>0</td>\n",
              "      <td>1</td>\n",
              "      <td>0</td>\n",
              "      <td>0</td>\n",
              "      <td>0</td>\n",
              "      <td>1</td>\n",
              "      <td>0</td>\n",
              "      <td>1</td>\n",
              "      <td>0</td>\n",
              "      <td>1</td>\n",
              "      <td>1</td>\n",
              "      <td>1</td>\n",
              "      <td>1</td>\n",
              "      <td>3.0</td>\n",
              "      <td>0</td>\n",
              "    </tr>\n",
              "    <tr>\n",
              "      <th>1</th>\n",
              "      <td>1</td>\n",
              "      <td>0</td>\n",
              "      <td>0</td>\n",
              "      <td>0</td>\n",
              "      <td>1</td>\n",
              "      <td>0</td>\n",
              "      <td>0</td>\n",
              "      <td>1</td>\n",
              "      <td>0</td>\n",
              "      <td>0</td>\n",
              "      <td>0</td>\n",
              "      <td>1</td>\n",
              "      <td>0</td>\n",
              "      <td>1</td>\n",
              "      <td>0</td>\n",
              "      <td>1</td>\n",
              "      <td>5.0</td>\n",
              "      <td>0</td>\n",
              "    </tr>\n",
              "    <tr>\n",
              "      <th>2</th>\n",
              "      <td>1</td>\n",
              "      <td>1</td>\n",
              "      <td>0</td>\n",
              "      <td>0</td>\n",
              "      <td>1</td>\n",
              "      <td>1</td>\n",
              "      <td>0</td>\n",
              "      <td>0</td>\n",
              "      <td>1</td>\n",
              "      <td>0</td>\n",
              "      <td>1</td>\n",
              "      <td>0</td>\n",
              "      <td>1</td>\n",
              "      <td>1</td>\n",
              "      <td>0</td>\n",
              "      <td>1</td>\n",
              "      <td>3.0</td>\n",
              "      <td>0</td>\n",
              "    </tr>\n",
              "    <tr>\n",
              "      <th>3</th>\n",
              "      <td>1</td>\n",
              "      <td>0</td>\n",
              "      <td>0</td>\n",
              "      <td>1</td>\n",
              "      <td>1</td>\n",
              "      <td>1</td>\n",
              "      <td>1</td>\n",
              "      <td>0</td>\n",
              "      <td>1</td>\n",
              "      <td>0</td>\n",
              "      <td>1</td>\n",
              "      <td>0</td>\n",
              "      <td>0</td>\n",
              "      <td>0</td>\n",
              "      <td>0</td>\n",
              "      <td>1</td>\n",
              "      <td>3.0</td>\n",
              "      <td>0</td>\n",
              "    </tr>\n",
              "    <tr>\n",
              "      <th>4</th>\n",
              "      <td>1</td>\n",
              "      <td>1</td>\n",
              "      <td>1</td>\n",
              "      <td>1</td>\n",
              "      <td>1</td>\n",
              "      <td>1</td>\n",
              "      <td>0</td>\n",
              "      <td>1</td>\n",
              "      <td>1</td>\n",
              "      <td>1</td>\n",
              "      <td>1</td>\n",
              "      <td>1</td>\n",
              "      <td>1</td>\n",
              "      <td>1</td>\n",
              "      <td>1</td>\n",
              "      <td>1</td>\n",
              "      <td>5.0</td>\n",
              "      <td>1</td>\n",
              "    </tr>\n",
              "    <tr>\n",
              "      <th>...</th>\n",
              "      <td>...</td>\n",
              "      <td>...</td>\n",
              "      <td>...</td>\n",
              "      <td>...</td>\n",
              "      <td>...</td>\n",
              "      <td>...</td>\n",
              "      <td>...</td>\n",
              "      <td>...</td>\n",
              "      <td>...</td>\n",
              "      <td>...</td>\n",
              "      <td>...</td>\n",
              "      <td>...</td>\n",
              "      <td>...</td>\n",
              "      <td>...</td>\n",
              "      <td>...</td>\n",
              "      <td>...</td>\n",
              "      <td>...</td>\n",
              "      <td>...</td>\n",
              "    </tr>\n",
              "    <tr>\n",
              "      <th>515</th>\n",
              "      <td>0</td>\n",
              "      <td>1</td>\n",
              "      <td>1</td>\n",
              "      <td>1</td>\n",
              "      <td>0</td>\n",
              "      <td>1</td>\n",
              "      <td>0</td>\n",
              "      <td>0</td>\n",
              "      <td>1</td>\n",
              "      <td>0</td>\n",
              "      <td>1</td>\n",
              "      <td>1</td>\n",
              "      <td>0</td>\n",
              "      <td>0</td>\n",
              "      <td>0</td>\n",
              "      <td>1</td>\n",
              "      <td>3.0</td>\n",
              "      <td>1</td>\n",
              "    </tr>\n",
              "    <tr>\n",
              "      <th>516</th>\n",
              "      <td>0</td>\n",
              "      <td>1</td>\n",
              "      <td>1</td>\n",
              "      <td>1</td>\n",
              "      <td>1</td>\n",
              "      <td>1</td>\n",
              "      <td>0</td>\n",
              "      <td>0</td>\n",
              "      <td>1</td>\n",
              "      <td>1</td>\n",
              "      <td>1</td>\n",
              "      <td>1</td>\n",
              "      <td>0</td>\n",
              "      <td>0</td>\n",
              "      <td>0</td>\n",
              "      <td>1</td>\n",
              "      <td>4.0</td>\n",
              "      <td>1</td>\n",
              "    </tr>\n",
              "    <tr>\n",
              "      <th>517</th>\n",
              "      <td>0</td>\n",
              "      <td>1</td>\n",
              "      <td>1</td>\n",
              "      <td>1</td>\n",
              "      <td>1</td>\n",
              "      <td>1</td>\n",
              "      <td>0</td>\n",
              "      <td>1</td>\n",
              "      <td>0</td>\n",
              "      <td>0</td>\n",
              "      <td>0</td>\n",
              "      <td>1</td>\n",
              "      <td>1</td>\n",
              "      <td>0</td>\n",
              "      <td>1</td>\n",
              "      <td>1</td>\n",
              "      <td>5.0</td>\n",
              "      <td>1</td>\n",
              "    </tr>\n",
              "    <tr>\n",
              "      <th>518</th>\n",
              "      <td>0</td>\n",
              "      <td>0</td>\n",
              "      <td>0</td>\n",
              "      <td>0</td>\n",
              "      <td>1</td>\n",
              "      <td>0</td>\n",
              "      <td>0</td>\n",
              "      <td>1</td>\n",
              "      <td>1</td>\n",
              "      <td>0</td>\n",
              "      <td>1</td>\n",
              "      <td>0</td>\n",
              "      <td>0</td>\n",
              "      <td>1</td>\n",
              "      <td>0</td>\n",
              "      <td>0</td>\n",
              "      <td>2.0</td>\n",
              "      <td>0</td>\n",
              "    </tr>\n",
              "    <tr>\n",
              "      <th>519</th>\n",
              "      <td>1</td>\n",
              "      <td>0</td>\n",
              "      <td>0</td>\n",
              "      <td>0</td>\n",
              "      <td>0</td>\n",
              "      <td>0</td>\n",
              "      <td>0</td>\n",
              "      <td>0</td>\n",
              "      <td>0</td>\n",
              "      <td>0</td>\n",
              "      <td>0</td>\n",
              "      <td>0</td>\n",
              "      <td>0</td>\n",
              "      <td>0</td>\n",
              "      <td>0</td>\n",
              "      <td>0</td>\n",
              "      <td>3.0</td>\n",
              "      <td>0</td>\n",
              "    </tr>\n",
              "  </tbody>\n",
              "</table>\n",
              "<p>520 rows × 18 columns</p>\n",
              "</div>"
            ],
            "text/plain": [
              "     Gender  Polyuria  Polydipsia  sudden weight loss  weakness  Polyphagia  \\\n",
              "0         1         0           1                   0         1           0   \n",
              "1         1         0           0                   0         1           0   \n",
              "2         1         1           0                   0         1           1   \n",
              "3         1         0           0                   1         1           1   \n",
              "4         1         1           1                   1         1           1   \n",
              "..      ...       ...         ...                 ...       ...         ...   \n",
              "515       0         1           1                   1         0           1   \n",
              "516       0         1           1                   1         1           1   \n",
              "517       0         1           1                   1         1           1   \n",
              "518       0         0           0                   0         1           0   \n",
              "519       1         0           0                   0         0           0   \n",
              "\n",
              "     Genital thrush  visual blurring  Itching  Irritability  delayed healing  \\\n",
              "0                 0                0        1             0                1   \n",
              "1                 0                1        0             0                0   \n",
              "2                 0                0        1             0                1   \n",
              "3                 1                0        1             0                1   \n",
              "4                 0                1        1             1                1   \n",
              "..              ...              ...      ...           ...              ...   \n",
              "515               0                0        1             0                1   \n",
              "516               0                0        1             1                1   \n",
              "517               0                1        0             0                0   \n",
              "518               0                1        1             0                1   \n",
              "519               0                0        0             0                0   \n",
              "\n",
              "     partial paresis  muscle stiffness  Alopecia  Obesity  class  \\\n",
              "0                  0                 1         1        1      1   \n",
              "1                  1                 0         1        0      1   \n",
              "2                  0                 1         1        0      1   \n",
              "3                  0                 0         0        0      1   \n",
              "4                  1                 1         1        1      1   \n",
              "..               ...               ...       ...      ...    ...   \n",
              "515                1                 0         0        0      1   \n",
              "516                1                 0         0        0      1   \n",
              "517                1                 1         0        1      1   \n",
              "518                0                 0         1        0      0   \n",
              "519                0                 0         0        0      0   \n",
              "\n",
              "     Age_Category  PolyInteraction  \n",
              "0             3.0                0  \n",
              "1             5.0                0  \n",
              "2             3.0                0  \n",
              "3             3.0                0  \n",
              "4             5.0                1  \n",
              "..            ...              ...  \n",
              "515           3.0                1  \n",
              "516           4.0                1  \n",
              "517           5.0                1  \n",
              "518           2.0                0  \n",
              "519           3.0                0  \n",
              "\n",
              "[520 rows x 18 columns]"
            ]
          },
          "execution_count": 16,
          "metadata": {},
          "output_type": "execute_result"
        }
      ],
      "source": [
        "df"
      ]
    },
    {
      "cell_type": "markdown",
      "metadata": {
        "id": "gbsyY7Dl-G-D"
      },
      "source": [
        "### Missing Value"
      ]
    },
    {
      "cell_type": "code",
      "execution_count": 17,
      "metadata": {
        "colab": {
          "base_uri": "https://localhost:8080/"
        },
        "execution": {
          "iopub.execute_input": "2023-12-14T06:15:59.711558Z",
          "iopub.status.busy": "2023-12-14T06:15:59.710140Z",
          "iopub.status.idle": "2023-12-14T06:15:59.722646Z",
          "shell.execute_reply": "2023-12-14T06:15:59.721062Z",
          "shell.execute_reply.started": "2023-12-14T06:15:59.711516Z"
        },
        "id": "dNiv2FfT-G-D",
        "outputId": "2fffb3b5-cbc5-4f23-8374-1bd58aecad11",
        "trusted": true
      },
      "outputs": [
        {
          "data": {
            "text/plain": [
              "Gender                0\n",
              "Polyuria              0\n",
              "Polydipsia            0\n",
              "sudden weight loss    0\n",
              "weakness              0\n",
              "Polyphagia            0\n",
              "Genital thrush        0\n",
              "visual blurring       0\n",
              "Itching               0\n",
              "Irritability          0\n",
              "delayed healing       0\n",
              "partial paresis       0\n",
              "muscle stiffness      0\n",
              "Alopecia              0\n",
              "Obesity               0\n",
              "class                 0\n",
              "Age_Category          0\n",
              "PolyInteraction       0\n",
              "dtype: int64"
            ]
          },
          "execution_count": 17,
          "metadata": {},
          "output_type": "execute_result"
        }
      ],
      "source": [
        "# Before solving this problem, let's check the null values.\n",
        "df.isnull().sum()"
      ]
    },
    {
      "cell_type": "markdown",
      "metadata": {
        "id": "UxpKnGbd-G-G"
      },
      "source": [
        "### Outliers"
      ]
    },
    {
      "cell_type": "code",
      "execution_count": 18,
      "metadata": {
        "colab": {
          "base_uri": "https://localhost:8080/"
        },
        "id": "b_dmTlU5KMuP",
        "outputId": "3b6b5ee4-d64b-4429-afcf-b99f8a796ca6"
      },
      "outputs": [
        {
          "data": {
            "text/plain": [
              "(520, 18)"
            ]
          },
          "execution_count": 18,
          "metadata": {},
          "output_type": "execute_result"
        }
      ],
      "source": [
        "df.shape"
      ]
    },
    {
      "cell_type": "code",
      "execution_count": 19,
      "metadata": {
        "colab": {
          "base_uri": "https://localhost:8080/",
          "height": 989
        },
        "execution": {
          "iopub.execute_input": "2023-12-14T06:16:00.612412Z",
          "iopub.status.busy": "2023-12-14T06:16:00.611976Z",
          "iopub.status.idle": "2023-12-14T06:16:00.975466Z",
          "shell.execute_reply": "2023-12-14T06:16:00.974239Z",
          "shell.execute_reply.started": "2023-12-14T06:16:00.612378Z"
        },
        "id": "ZnJpoKeY-G-H",
        "outputId": "3333dc82-9a39-43b4-abcc-ea6a9c5d8709",
        "trusted": true
      },
      "outputs": [
        {
          "data": {
            "text/plain": [
              "<Axes: >"
            ]
          },
          "execution_count": 19,
          "metadata": {},
          "output_type": "execute_result"
        },
        {
          "data": {
            "image/png": "[encoded data removed]",
            "text/plain": [
              "<Figure size 1800x1200 with 1 Axes>"
            ]
          },
          "metadata": {},
          "output_type": "display_data"
        }
      ],
      "source": [
        "#checking outliers with the help of boxplot\n",
        "\n",
        "df.boxplot(figsize = (18,12))"
      ]
    },
    {
      "cell_type": "code",
      "execution_count": 20,
      "metadata": {
        "id": "MRLRoPGC-la4"
      },
      "outputs": [],
      "source": [
        "# import numpy as np\n",
        "\n",
        "# # Kolom 'Age' adalah satu-satunya kolom yang ingin diatasi outlier\n",
        "# column_to_process = 'Age'\n",
        "\n",
        "# # Mengatasi outlier pada kolom 'Age' menggunakan metode IQR\n",
        "# Q1 = df[column_to_process].quantile(0.25)\n",
        "# Q3 = df[column_to_process].quantile(0.75)\n",
        "# IQR = Q3 - Q1\n",
        "# lower_bound = Q1 - 1.5 * IQR\n",
        "# upper_bound = Q3 + 1.5 * IQR\n",
        "\n",
        "# # Mengganti nilai outlier dengan nilai batas atas atau batas bawah\n",
        "# df[column_to_process] = np.where((df[column_to_process] < lower_bound) | (df[column_to_process] > upper_bound), df[column_to_process].median(), df[column_to_process])"
      ]
    },
    {
      "cell_type": "code",
      "execution_count": 21,
      "metadata": {
        "id": "_n_DPYWk-sEx"
      },
      "outputs": [],
      "source": [
        "# #checking outliers now\n",
        "\n",
        "# df.boxplot(figsize = (18,12))"
      ]
    },
    {
      "cell_type": "code",
      "execution_count": 22,
      "metadata": {
        "id": "jARnwMqy-vv-"
      },
      "outputs": [],
      "source": [
        "# df.shape"
      ]
    },
    {
      "cell_type": "markdown",
      "metadata": {
        "id": "G7u1tiPS-G-H"
      },
      "source": [
        "### Data Splitting"
      ]
    },
    {
      "cell_type": "code",
      "execution_count": 23,
      "metadata": {
        "execution": {
          "iopub.execute_input": "2023-12-14T06:16:01.617457Z",
          "iopub.status.busy": "2023-12-14T06:16:01.617089Z",
          "iopub.status.idle": "2023-12-14T06:16:01.624212Z",
          "shell.execute_reply": "2023-12-14T06:16:01.622944Z",
          "shell.execute_reply.started": "2023-12-14T06:16:01.617427Z"
        },
        "id": "qGrxviBI-G-J",
        "trusted": true
      },
      "outputs": [],
      "source": [
        "X = df.drop([\"class\"],axis=1)\n",
        "y = df[\"class\"]"
      ]
    },
    {
      "cell_type": "code",
      "execution_count": 24,
      "metadata": {
        "execution": {
          "iopub.execute_input": "2023-12-14T06:16:01.632292Z",
          "iopub.status.busy": "2023-12-14T06:16:01.631878Z",
          "iopub.status.idle": "2023-12-14T06:16:01.763202Z",
          "shell.execute_reply": "2023-12-14T06:16:01.761931Z",
          "shell.execute_reply.started": "2023-12-14T06:16:01.632262Z"
        },
        "id": "NJGuxiu5-G-O",
        "trusted": true
      },
      "outputs": [],
      "source": [
        "from sklearn.model_selection import train_test_split\n",
        "\n",
        "X_train, X_test, y_train, y_test = train_test_split(X, y, test_size=0.2, random_state=42)"
      ]
    },
    {
      "cell_type": "code",
      "execution_count": 25,
      "metadata": {
        "colab": {
          "base_uri": "https://localhost:8080/"
        },
        "id": "yOvZdLndjIbN",
        "outputId": "d27c783f-57ca-4643-84c6-6766cc48ac55"
      },
      "outputs": [
        {
          "name": "stdout",
          "output_type": "stream",
          "text": [
            "Total seluruh dataset: 520\n",
            "Traning dataset: 416\n",
            "Traning dataset: 416\n",
            "Testing dataset: 104\n",
            "Testing dataset: 104\n"
          ]
        }
      ],
      "source": [
        "print(f'Total seluruh dataset: {len(df)}')\n",
        "print(f'Traning dataset: {len(X_train)}')\n",
        "print(f'Traning dataset: {len(y_train)}')\n",
        "print(f'Testing dataset: {len(X_test)}')\n",
        "print(f'Testing dataset: {len(y_test)}')"
      ]
    },
    {
      "cell_type": "code",
      "execution_count": 26,
      "metadata": {
        "colab": {
          "base_uri": "https://localhost:8080/"
        },
        "id": "DHzub8yB6gJj",
        "outputId": "60a4555b-cce1-4790-dada-35d199f8e5d7"
      },
      "outputs": [
        {
          "name": "stdout",
          "output_type": "stream",
          "text": [
            "Fold 1: Accuracy = 0.9286\n",
            "Fold 2: Accuracy = 0.8571\n",
            "Fold 3: Accuracy = 0.9286\n",
            "Fold 4: Accuracy = 0.9048\n",
            "Fold 5: Accuracy = 0.8810\n",
            "Fold 6: Accuracy = 0.9762\n",
            "Fold 7: Accuracy = 0.9024\n",
            "Fold 8: Accuracy = 0.9756\n",
            "Fold 9: Accuracy = 0.9512\n",
            "Fold 10: Accuracy = 0.9024\n",
            "\n",
            "Average Accuracy Across 10-Fold Cross-Validation: 0.9208\n"
          ]
        }
      ],
      "source": [
        "from sklearn.linear_model import LogisticRegression\n",
        "from sklearn.metrics import classification_report, accuracy_score\n",
        "from sklearn.model_selection import cross_val_score, KFold\n",
        "\n",
        "# Define the logistic regression model\n",
        "logreg_diab = LogisticRegression(random_state=42)\n",
        "\n",
        "# Specify the number of folds for cross-validation\n",
        "num_folds = 10\n",
        "kf = KFold(n_splits=num_folds, shuffle=True, random_state=42)\n",
        "\n",
        "# Perform cross-validation on X_train and y_train\n",
        "logres_cv = cross_val_score(logreg_diab, X_train, y_train, cv=kf, scoring='accuracy')\n",
        "\n",
        "# Print accuracy for each fold in training set\n",
        "for fold, accuracy in enumerate(logres_cv, 1):\n",
        "    print(f'Fold {fold}: Accuracy = {accuracy:.4f}')\n",
        "\n",
        "# Print average accuracy across all folds\n",
        "average_accuracy = np.mean(logres_cv)\n",
        "print(f'\\nAverage Accuracy Across {num_folds}-Fold Cross-Validation: {average_accuracy:.4f}')"
      ]
    },
    {
      "cell_type": "code",
      "execution_count": 27,
      "metadata": {
        "colab": {
          "base_uri": "https://localhost:8080/"
        },
        "execution": {
          "iopub.execute_input": "2023-12-14T06:16:01.765870Z",
          "iopub.status.busy": "2023-12-14T06:16:01.764786Z",
          "iopub.status.idle": "2023-12-14T06:16:01.930624Z",
          "shell.execute_reply": "2023-12-14T06:16:01.929095Z",
          "shell.execute_reply.started": "2023-12-14T06:16:01.765831Z"
        },
        "id": "TAgGtykh-G-O",
        "outputId": "4938a262-96bd-4055-df48-02ae2b15ab48",
        "trusted": true
      },
      "outputs": [
        {
          "name": "stdout",
          "output_type": "stream",
          "text": [
            "Classification Report:\n",
            "              precision    recall  f1-score   support\n",
            "\n",
            "           0       0.90      0.85      0.88        33\n",
            "           1       0.93      0.96      0.94        71\n",
            "\n",
            "    accuracy                           0.92       104\n",
            "   macro avg       0.92      0.90      0.91       104\n",
            "weighted avg       0.92      0.92      0.92       104\n",
            "\n",
            "\n",
            "Accuracy: 0.9230769230769231\n"
          ]
        }
      ],
      "source": [
        "#fitting data in Logistic Regression\n",
        "from sklearn.linear_model import LogisticRegression\n",
        "from sklearn.metrics import classification_report, accuracy_score\n",
        "\n",
        "logreg = LogisticRegression(random_state=42)\n",
        "logreg.fit(X_train, y_train)\n",
        "y_pred = logreg.predict(X_test)\n",
        "\n",
        "# Print classification report\n",
        "print(\"Classification Report:\")\n",
        "print(classification_report(y_test, y_pred))\n",
        "\n",
        "# Print accuracy\n",
        "accuracy_before = accuracy_score(y_test, y_pred)\n",
        "print(\"\\nAccuracy:\", accuracy_before)"
      ]
    },
    {
      "cell_type": "markdown",
      "metadata": {
        "id": "4RsMZLiE-G-O"
      },
      "source": [
        "### SMOTE (Handling Imbalanced Data)"
      ]
    },
    {
      "cell_type": "code",
      "execution_count": 28,
      "metadata": {
        "colab": {
          "base_uri": "https://localhost:8080/",
          "height": 423
        },
        "id": "5PZ7GQjdFqfe",
        "outputId": "fdda8daa-531e-4b2b-d678-653ae8586542"
      },
      "outputs": [
        {
          "data": {
            "image/png": "[encoded data removed]",
            "text/plain": [
              "<Figure size 1000x400 with 2 Axes>"
            ]
          },
          "metadata": {},
          "output_type": "display_data"
        }
      ],
      "source": [
        "fig, axes = plt.subplots(1, 2, figsize=(10, 4))\n",
        "\n",
        "\n",
        "df['class'].value_counts().plot.pie(\n",
        "    explode=[0, 0.1], autopct='%1.1f%%', ax=axes[0], shadow=True, colors=[Blues_palette[1], Blues_palette[3]]\n",
        ")\n",
        "\n",
        "sns.countplot(x='class', data=df, palette=[GnBu_palette[6], GnBu_palette[7]], ax=axes[1])\n",
        "for p in axes[1].patches:\n",
        "    axes[1].annotate(f'{p.get_height()}', (p.get_x() + p.get_width() / 2., p.get_height()),\n",
        "                     ha='center', va='center', xytext=(0, -10), textcoords='offset points')\n",
        "\n",
        "axes[1].patch.set_alpha(0)\n",
        "\n",
        "fig.text(0.28, 0.92, \"Distribution of Diabetes percent\", fontweight=\"bold\", fontfamily='serif', fontsize=17)\n",
        "\n",
        "plt.show()"
      ]
    },
    {
      "cell_type": "code",
      "execution_count": 31,
      "metadata": {
        "execution": {
          "iopub.execute_input": "2023-12-14T06:16:02.448991Z",
          "iopub.status.busy": "2023-12-14T06:16:02.447537Z",
          "iopub.status.idle": "2023-12-14T06:16:02.880856Z",
          "shell.execute_reply": "2023-12-14T06:16:02.879623Z",
          "shell.execute_reply.started": "2023-12-14T06:16:02.448949Z"
        },
        "id": "Li3B5zvA-G-P",
        "trusted": true
      },
      "outputs": [],
      "source": [
        "from imblearn import under_sampling, over_sampling\n",
        "from imblearn.over_sampling import SMOTE\n",
        "\n",
        "sm = SMOTE(random_state = 42)\n",
        "X_train, y_train  = sm.fit_resample(X_train, y_train)"
      ]
    },
    {
      "cell_type": "code",
      "execution_count": 32,
      "metadata": {
        "colab": {
          "base_uri": "https://localhost:8080/",
          "height": 423
        },
        "execution": {
          "iopub.execute_input": "2023-12-14T06:16:02.885871Z",
          "iopub.status.busy": "2023-12-14T06:16:02.884251Z",
          "iopub.status.idle": "2023-12-14T06:16:03.306777Z",
          "shell.execute_reply": "2023-12-14T06:16:03.305382Z",
          "shell.execute_reply.started": "2023-12-14T06:16:02.885807Z"
        },
        "id": "A1xrg_0y-G-P",
        "outputId": "bf55d5da-9406-4473-da14-49bfa780ecd4",
        "trusted": true
      },
      "outputs": [
        {
          "data": {
            "image/png": "[encoded data removed]",
            "text/plain": [
              "<Figure size 1000x400 with 2 Axes>"
            ]
          },
          "metadata": {},
          "output_type": "display_data"
        }
      ],
      "source": [
        "fig, axes = plt.subplots(1, 2, figsize=(10, 4))\n",
        "\n",
        "y_train.value_counts().plot.pie(\n",
        "    explode=[0,0.1], autopct='%1.1f%%', ax=axes[0], shadow=True, colors=[Blues_palette[1], Blues_palette[3]]\n",
        ")\n",
        "\n",
        "sns.countplot(x=y_train, data=df, palette=[GnBu_palette[6], GnBu_palette[7]], ax=axes[1])\n",
        "for p in axes[1].patches:\n",
        "    axes[1].annotate(f'{p.get_height()}', (p.get_x() + p.get_width() / 2., p.get_height()),\n",
        "                     ha='center', va='center', xytext=(0, -10), textcoords='offset points')\n",
        "axes[1].patch.set_alpha(0)\n",
        "\n",
        "fig.text(0.28, 0.92,\"Distribution of After SMOTE Diabetes percent\", fontweight=\"bold\", fontfamily='serif', fontsize=17)\n",
        "\n",
        "plt.show()"
      ]
    },
    {
      "cell_type": "markdown",
      "metadata": {
        "id": "OslxXOc1-G-P"
      },
      "source": [
        "### Dimensionality Reduction using PCA"
      ]
    },
    {
      "cell_type": "code",
      "execution_count": 33,
      "metadata": {
        "colab": {
          "base_uri": "https://localhost:8080/"
        },
        "id": "ftSCh9eq0Oiy",
        "outputId": "f22ad62e-d057-4d41-b51a-060ab63b35cd"
      },
      "outputs": [
        {
          "data": {
            "text/plain": [
              "Gender               -0.453798\n",
              "Polyuria              0.704879\n",
              "Polydipsia            0.698867\n",
              "sudden weight loss    0.511162\n",
              "weakness              0.250473\n",
              "Polyphagia            0.321881\n",
              "Genital thrush        0.143774\n",
              "visual blurring       0.275523\n",
              "Itching              -0.004017\n",
              "Irritability          0.332914\n",
              "delayed healing       0.036262\n",
              "partial paresis       0.449314\n",
              "muscle stiffness      0.138801\n",
              "Alopecia             -0.263537\n",
              "Obesity               0.097635\n",
              "Age_Category          0.113433\n",
              "PolyInteraction       0.656532\n",
              "dtype: float64"
            ]
          },
          "execution_count": 33,
          "metadata": {},
          "output_type": "execute_result"
        }
      ],
      "source": [
        "X_train.corrwith(y_train)"
      ]
    },
    {
      "cell_type": "code",
      "execution_count": 34,
      "metadata": {
        "colab": {
          "base_uri": "https://localhost:8080/",
          "height": 748
        },
        "id": "Qbz3IR9h0Evg",
        "outputId": "8baf6125-5b95-4b4f-fe61-445656e6286c"
      },
      "outputs": [
        {
          "data": {
            "text/plain": [
              "<Axes: title={'center': 'Correlation with Diabetes'}>"
            ]
          },
          "execution_count": 34,
          "metadata": {},
          "output_type": "execute_result"
        },
        {
          "data": {
            "image/png": "[encoded data removed]",
            "text/plain": [
              "<Figure size 1600x600 with 1 Axes>"
            ]
          },
          "metadata": {},
          "output_type": "display_data"
        }
      ],
      "source": [
        "#Correlation with Response Variable class\n",
        "\n",
        "X_train.corrwith(y_train).plot.bar(\n",
        "        figsize = (16, 6), title = \"Correlation with Diabetes\", fontsize = 15,\n",
        "        rot = 90, grid = True)"
      ]
    },
    {
      "cell_type": "code",
      "execution_count": 35,
      "metadata": {
        "execution": {
          "iopub.execute_input": "2023-12-14T06:16:04.489940Z",
          "iopub.status.busy": "2023-12-14T06:16:04.489587Z",
          "iopub.status.idle": "2023-12-14T06:16:04.504728Z",
          "shell.execute_reply": "2023-12-14T06:16:04.503044Z",
          "shell.execute_reply.started": "2023-12-14T06:16:04.489911Z"
        },
        "id": "Cn-iT4ls-G-P",
        "trusted": true
      },
      "outputs": [],
      "source": [
        "from sklearn.preprocessing import StandardScaler\n",
        "\n",
        "# Normalisasi data dengan StandardScaler\n",
        "scaler = StandardScaler()\n",
        "X_train_std = scaler.fit_transform(X_train)\n",
        "X_test_std = scaler.transform(X_test)"
      ]
    },
    {
      "cell_type": "code",
      "execution_count": 36,
      "metadata": {
        "execution": {
          "iopub.execute_input": "2023-12-14T06:16:04.507332Z",
          "iopub.status.busy": "2023-12-14T06:16:04.506364Z",
          "iopub.status.idle": "2023-12-14T06:16:04.525321Z",
          "shell.execute_reply": "2023-12-14T06:16:04.524049Z",
          "shell.execute_reply.started": "2023-12-14T06:16:04.507293Z"
        },
        "id": "Pd03DY_d-G-Q",
        "trusted": true
      },
      "outputs": [],
      "source": [
        "from sklearn.decomposition import PCA\n",
        "\n",
        "pca = PCA(n_components=14)\n",
        "#decreasing 17 features to 14 features\n",
        "\n",
        "X_train_pca = pca.fit_transform(X_train_std)\n",
        "X_test_pca = pca.transform(X_test_std)"
      ]
    },
    {
      "cell_type": "code",
      "execution_count": 37,
      "metadata": {
        "colab": {
          "base_uri": "https://localhost:8080/"
        },
        "execution": {
          "iopub.execute_input": "2023-12-14T06:16:04.528193Z",
          "iopub.status.busy": "2023-12-14T06:16:04.526864Z",
          "iopub.status.idle": "2023-12-14T06:16:04.543526Z",
          "shell.execute_reply": "2023-12-14T06:16:04.542251Z",
          "shell.execute_reply.started": "2023-12-14T06:16:04.528144Z"
        },
        "id": "rVsh0Pyc-G-Q",
        "outputId": "2c62d835-33fe-49e3-903a-e255a59f66b8",
        "trusted": true
      },
      "outputs": [
        {
          "name": "stdout",
          "output_type": "stream",
          "text": [
            "Nilai Beban (Loadings) untuk Setiap Fitur:\n",
            "      Gender  Polyuria  Polydipsia  sudden weight loss  weakness  Polyphagia  \\\n",
            "0  -0.196749  0.347623    0.353493            0.249827  0.251855    0.281419   \n",
            "1   0.183068 -0.194157   -0.255802           -0.200603  0.173185    0.084474   \n",
            "2   0.229590  0.186796    0.099318            0.221741  0.060022   -0.101682   \n",
            "3   0.239821 -0.002907   -0.109210           -0.030859 -0.304702    0.234790   \n",
            "4  -0.325877 -0.154641   -0.020949            0.201023  0.263530   -0.391769   \n",
            "5   0.416331  0.166998    0.265573           -0.350969 -0.020931   -0.286862   \n",
            "6  -0.472348  0.135141   -0.052194           -0.015467 -0.624421    0.228231   \n",
            "7  -0.319793 -0.023093    0.083637           -0.568174 -0.116956   -0.248952   \n",
            "8   0.076317 -0.154834    0.126489           -0.113656 -0.061846    0.094071   \n",
            "9  -0.280807 -0.134384   -0.019562            0.289664  0.133167   -0.281191   \n",
            "10  0.093814 -0.177611   -0.125925            0.060546 -0.025837   -0.178642   \n",
            "11  0.116737 -0.311410    0.084068            0.056000  0.188841    0.449405   \n",
            "12  0.144570  0.129786    0.050087            0.302476 -0.364727   -0.286264   \n",
            "13 -0.269347  0.021244    0.031653           -0.391276  0.296662    0.080044   \n",
            "\n",
            "    Genital thrush  visual blurring   Itching  Irritability  delayed healing  \\\n",
            "0         0.010415         0.288308  0.175517      0.179239         0.200274   \n",
            "1         0.068694         0.174896  0.378709      0.022816         0.360671   \n",
            "2         0.667964        -0.303056  0.057019      0.277288         0.014024   \n",
            "3        -0.129892         0.053653 -0.281480      0.401328        -0.307039   \n",
            "4        -0.158541         0.055751  0.129032     -0.146301         0.019671   \n",
            "5        -0.067084         0.310819  0.129144     -0.359977        -0.284499   \n",
            "6         0.215736         0.090264  0.136942     -0.346050         0.072818   \n",
            "7         0.023567         0.075184  0.277152      0.593720         0.012134   \n",
            "8         0.413597         0.270835  0.117565     -0.078568        -0.093097   \n",
            "9         0.114894         0.299359 -0.081934      0.152332        -0.422270   \n",
            "10        0.413817         0.036765  0.123517     -0.169582        -0.049326   \n",
            "11       -0.127051        -0.077122  0.418232      0.010697        -0.094605   \n",
            "12       -0.263630        -0.366886  0.556749      0.062222        -0.088570   \n",
            "13        0.112204        -0.598855 -0.054831     -0.199470        -0.215780   \n",
            "\n",
            "    partial paresis  muscle stiffness  Alopecia   Obesity  Age_Category  \\\n",
            "0          0.301974          0.237035 -0.024397  0.086188      0.216671   \n",
            "1         -0.078386          0.204426  0.483409  0.017261      0.328373   \n",
            "2         -0.240904         -0.236705  0.188452  0.249286     -0.002907   \n",
            "3          0.038491          0.284590 -0.072399  0.493251      0.271847   \n",
            "4         -0.192939          0.154591 -0.044207  0.665087     -0.171436   \n",
            "5         -0.017918         -0.168193  0.083663  0.180947      0.207073   \n",
            "6         -0.108885         -0.169680  0.077418  0.181785      0.186008   \n",
            "7          0.084370         -0.149540 -0.095423  0.011343     -0.127250   \n",
            "8         -0.388657          0.546637 -0.365059 -0.158325     -0.215457   \n",
            "9         -0.149825         -0.119019  0.013493 -0.311637      0.504113   \n",
            "10         0.747154          0.015778 -0.265896  0.099543      0.014101   \n",
            "11        -0.145063         -0.438284 -0.431205  0.120093      0.134671   \n",
            "12        -0.006177          0.281579 -0.058272 -0.176977      0.115455   \n",
            "13         0.025304          0.269973 -0.035565  0.018398      0.363356   \n",
            "\n",
            "    PolyInteraction  \n",
            "0          0.349048  \n",
            "1         -0.294798  \n",
            "2          0.096622  \n",
            "3         -0.149660  \n",
            "4         -0.067951  \n",
            "5          0.287756  \n",
            "6         -0.029819  \n",
            "7          0.033879  \n",
            "8          0.030195  \n",
            "9         -0.151359  \n",
            "10        -0.221832  \n",
            "11        -0.062150  \n",
            "12         0.010885  \n",
            "13         0.103718  \n"
          ]
        }
      ],
      "source": [
        "# Ambil komponen utama\n",
        "components = pca.components_\n",
        "\n",
        "# Membuat dataframe untuk memudahkan visualisasi\n",
        "loadings_df = pd.DataFrame(components, columns=X_train.columns)\n",
        "\n",
        "# Tampilkan dataframe\n",
        "print(\"Nilai Beban (Loadings) untuk Setiap Fitur:\")\n",
        "print(loadings_df)"
      ]
    },
    {
      "cell_type": "code",
      "execution_count": 38,
      "metadata": {
        "colab": {
          "base_uri": "https://localhost:8080/"
        },
        "execution": {
          "iopub.execute_input": "2023-12-14T06:16:04.545524Z",
          "iopub.status.busy": "2023-12-14T06:16:04.545140Z",
          "iopub.status.idle": "2023-12-14T06:16:04.557566Z",
          "shell.execute_reply": "2023-12-14T06:16:04.556327Z",
          "shell.execute_reply.started": "2023-12-14T06:16:04.545479Z"
        },
        "id": "JNZzqgLZ-G-Q",
        "outputId": "05c93b24-adab-466c-c296-4694c8b2dc37",
        "trusted": true
      },
      "outputs": [
        {
          "name": "stdout",
          "output_type": "stream",
          "text": [
            "Fitur yang Digunakan Setelah PCA:\n",
            "Index(['Polydipsia', 'Alopecia', 'Genital thrush', 'Obesity', 'Obesity',\n",
            "       'Gender', 'weakness', 'Irritability', 'muscle stiffness',\n",
            "       'Age_Category', 'partial paresis', 'Polyphagia', 'Itching',\n",
            "       'visual blurring'],\n",
            "      dtype='object')\n"
          ]
        }
      ],
      "source": [
        "# Ambil indeks fitur dengan nilai beban terbesar pada setiap komponen utama\n",
        "most_important_features = [np.abs(components[i]).argmax() for i in range(components.shape[0])]\n",
        "\n",
        "# Ambil nama fitur yang terkait dengan indeks tersebut\n",
        "selected_features = X_train.columns[most_important_features]\n",
        "\n",
        "# Tampilkan fitur yang digunakan\n",
        "print(\"Fitur yang Digunakan Setelah PCA:\")\n",
        "print(selected_features)"
      ]
    },
    {
      "cell_type": "markdown",
      "metadata": {
        "id": "c-VEOCZ3-G-Q"
      },
      "source": [
        "## **MODEL**"
      ]
    },
    {
      "cell_type": "markdown",
      "metadata": {
        "id": "Ped1RVT_-G-Q"
      },
      "source": [
        "### Logistic Regression + SMOTE + PCA"
      ]
    },
    {
      "cell_type": "code",
      "execution_count": 39,
      "metadata": {
        "colab": {
          "base_uri": "https://localhost:8080/"
        },
        "execution": {
          "iopub.execute_input": "2023-12-14T06:16:04.559213Z",
          "iopub.status.busy": "2023-12-14T06:16:04.558822Z",
          "iopub.status.idle": "2023-12-14T06:16:05.088939Z",
          "shell.execute_reply": "2023-12-14T06:16:05.087732Z",
          "shell.execute_reply.started": "2023-12-14T06:16:04.559182Z"
        },
        "id": "rhN_roM8-G-Q",
        "outputId": "e6d4956d-4558-4a32-cde7-40fbf0982b79",
        "trusted": true
      },
      "outputs": [
        {
          "name": "stdout",
          "output_type": "stream",
          "text": [
            "Fold 1: Accuracy = 0.9200\n",
            "Fold 2: Accuracy = 0.9600\n",
            "Fold 3: Accuracy = 0.9200\n",
            "Fold 4: Accuracy = 0.9400\n",
            "Fold 5: Accuracy = 0.9200\n",
            "Fold 6: Accuracy = 0.9200\n",
            "Fold 7: Accuracy = 0.8600\n",
            "Fold 8: Accuracy = 0.9800\n",
            "Fold 9: Accuracy = 0.9592\n",
            "Fold 10: Accuracy = 0.8980\n",
            "\n",
            "Average Accuracy Across 10-Fold Cross-Validation: 0.9277\n"
          ]
        }
      ],
      "source": [
        "from sklearn.model_selection import cross_val_score, KFold\n",
        "\n",
        "# Define the logistic regression model\n",
        "logreg_diab = LogisticRegression(random_state=42)\n",
        "\n",
        "# Specify the number of folds for cross-validation\n",
        "num_folds = 10\n",
        "kf = KFold(n_splits=num_folds, shuffle=True, random_state=42)\n",
        "\n",
        "# Perform cross-validation on X_train and y_train\n",
        "logres_cv = cross_val_score(logreg_diab, X_train_pca, y_train, cv=kf, scoring='accuracy')\n",
        "\n",
        "# Print accuracy for each fold in training set\n",
        "for fold, accuracy in enumerate(logres_cv, 1):\n",
        "    print(f'Fold {fold}: Accuracy = {accuracy:.4f}')\n",
        "\n",
        "# Print average accuracy across all folds\n",
        "average_accuracy = np.mean(logres_cv)\n",
        "print(f'\\nAverage Accuracy Across {num_folds}-Fold Cross-Validation: {average_accuracy:.4f}')"
      ]
    },
    {
      "cell_type": "code",
      "execution_count": 40,
      "metadata": {
        "colab": {
          "base_uri": "https://localhost:8080/"
        },
        "id": "j3yQtsX78TNF",
        "outputId": "91a7d05f-bdae-454c-d6a8-f0edbe9e9187"
      },
      "outputs": [
        {
          "name": "stdout",
          "output_type": "stream",
          "text": [
            "\n",
            "Classification Report on Test Set:\n",
            "              precision    recall  f1-score   support\n",
            "\n",
            "           0       0.91      0.94      0.93        33\n",
            "           1       0.97      0.96      0.96        71\n",
            "\n",
            "    accuracy                           0.95       104\n",
            "   macro avg       0.94      0.95      0.94       104\n",
            "weighted avg       0.95      0.95      0.95       104\n",
            "\n",
            "\n",
            "Accuracy: 0.9519230769230769\n"
          ]
        }
      ],
      "source": [
        "# Model using data testing\n",
        "logreg_diab = LogisticRegression(random_state=42)\n",
        "logreg_diab.fit(X_train_pca, y_train)\n",
        "y_pred = logreg_diab.predict(X_test_pca)\n",
        "print(\"\\nClassification Report on Test Set:\")\n",
        "print(classification_report(y_test, y_pred))\n",
        "\n",
        "# Print accuracy\n",
        "accuracy_after = accuracy_score(y_test, y_pred)\n",
        "print(\"\\nAccuracy:\", accuracy_after)"
      ]
    },
    {
      "cell_type": "code",
      "execution_count": 41,
      "metadata": {
        "id": "kkPlgSBEvt7j"
      },
      "outputs": [],
      "source": [
        "pickle.dump(logreg_diab, open(\"model.pkl\", \"wb\"))"
      ]
    },
    {
      "cell_type": "markdown",
      "metadata": {
        "id": "RfF5Mw_U-G-R"
      },
      "source": [
        "## **PERBANDINGAN**"
      ]
    },
    {
      "cell_type": "code",
      "execution_count": 42,
      "metadata": {
        "colab": {
          "base_uri": "https://localhost:8080/",
          "height": 641
        },
        "execution": {
          "iopub.execute_input": "2023-12-14T06:16:05.111598Z",
          "iopub.status.busy": "2023-12-14T06:16:05.111072Z",
          "iopub.status.idle": "2023-12-14T06:16:05.454182Z",
          "shell.execute_reply": "2023-12-14T06:16:05.453295Z",
          "shell.execute_reply.started": "2023-12-14T06:16:05.111567Z"
        },
        "id": "NF-SDdmL-G-R",
        "outputId": "770efd66-a325-45ab-f76c-1d0125b456b8",
        "trusted": true
      },
      "outputs": [
        {
          "data": {
            "image/png": "[encoded data removed]",
            "text/plain": [
              "<Figure size 700x700 with 1 Axes>"
            ]
          },
          "metadata": {},
          "output_type": "display_data"
        }
      ],
      "source": [
        "from sklearn.metrics import roc_curve, auc\n",
        "\n",
        "# Get the predicted probabilities for the positive class\n",
        "y_train_prob = logreg_diab.predict_proba(X_train_pca)[:, 1]\n",
        "y_test_prob = logreg_diab.predict_proba(X_test_pca)[:, 1]\n",
        "\n",
        "# Compute ROC curve and ROC area for each class\n",
        "fpr_train, tpr_train, _ = roc_curve(y_train, y_train_prob)\n",
        "roc_auc_train = auc(fpr_train, tpr_train)\n",
        "\n",
        "fpr_test, tpr_test, _ = roc_curve(y_test, y_test_prob)\n",
        "roc_auc_test = auc(fpr_test, tpr_test)\n",
        "\n",
        "# Plot ROC curve\n",
        "plt.figure(figsize=(7, 7))\n",
        "plt.plot(fpr_train, tpr_train, color='darkorange', lw=2, label='Training ROC curve (AUC = {:.2f})'.format(roc_auc_train))\n",
        "plt.plot(fpr_test, tpr_test, color='green', lw=2, label='Testing ROC curve (AUC = {:.2f})'.format(roc_auc_test))\n",
        "plt.xlabel('False Positive Rate')\n",
        "plt.ylabel('True Positive Rate')\n",
        "plt.title('Kurva ROC')\n",
        "plt.legend(loc='lower right')\n",
        "plt.show()"
      ]
    },
    {
      "cell_type": "markdown",
      "metadata": {
        "id": "gr5wwlvWmgRD"
      },
      "source": [
        "# PERBANDINGAN"
      ]
    },
    {
      "cell_type": "code",
      "execution_count": 43,
      "metadata": {
        "colab": {
          "base_uri": "https://localhost:8080/",
          "height": 585
        },
        "id": "BNBOtQsSmjps",
        "outputId": "1bcc9420-62ad-42ce-da27-9169e94cb6d3"
      },
      "outputs": [
        {
          "data": {
            "image/png": "[encoded data removed]",
            "text/plain": [
              "<Figure size 600x600 with 1 Axes>"
            ]
          },
          "metadata": {},
          "output_type": "display_data"
        }
      ],
      "source": [
        "fig, ax = plt.subplots(figsize=(6, 6))\n",
        "dataFrame = ['LR', 'LR+SMOTE+PCA']\n",
        "akurasi = [accuracy_before, accuracy_after]\n",
        "\n",
        "bars = ax.bar(dataFrame, akurasi, label=dataFrame, color=['blue', 'red'])\n",
        "\n",
        "for bar in bars:\n",
        "    yval = bar.get_height()\n",
        "    ax.text(bar.get_x() + bar.get_width()/2, yval + 0.01, f'{yval:.2f}', ha='center', va='bottom')\n",
        "\n",
        "ax.set_ylabel('Akurasi')\n",
        "ax.set_title('Perbandingan')\n",
        "ax.legend(loc='upper center', bbox_to_anchor=(0.5, -0.07), ncol=2)\n",
        "\n",
        "plt.show()"
      ]
    },
    {
      "cell_type": "markdown",
      "metadata": {
        "id": "us0COzLSPip_"
      },
      "source": [
        "# Sistem dengan Data Baru"
      ]
    },
    {
      "cell_type": "code",
      "execution_count": 44,
      "metadata": {
        "id": "P2lCyFVsVo6p"
      },
      "outputs": [],
      "source": [
        "# Melakukan prediksi terhadap data baru\n",
        "new_data = {\n",
        "    'Age': [55],\n",
        "    'Gender': [1],\n",
        "    'Polyuria': [1],\n",
        "    'Polydipsia': [1],\n",
        "    'sudden weight loss': [0],\n",
        "    'weakness': [1],\n",
        "    'Polyphagia': [1],\n",
        "    'Genital thrush': [0],\n",
        "    'visual blurring': [1],\n",
        "    'Itching': [1],\n",
        "    'Irritability': [0],\n",
        "    'delayed healing': [1],\n",
        "    'partial paresis': [0],\n",
        "    'muscle stiffness': [1],\n",
        "    'Alopecia': [1],\n",
        "    'Obesity': [1]\n",
        "}"
      ]
    },
    {
      "cell_type": "code",
      "execution_count": 45,
      "metadata": {
        "id": "sHLXasZGXTlE"
      },
      "outputs": [],
      "source": [
        "# Menyesuaikan data baru dengan feature engineering yang telah diterapkan pada data training\n",
        "new_data['Age_Category'] = 0\n",
        "if (new_data['Age'][0] >= 16) & (new_data['Age'][0] <= 25):\n",
        "    new_data['Age_Category'] = 1\n",
        "elif (new_data['Age'][0] > 25) & (new_data['Age'][0] <= 35):\n",
        "    new_data['Age_Category'] = 2\n",
        "elif (new_data['Age'][0] > 35) & (new_data['Age'][0] <= 45):\n",
        "    new_data['Age_Category'] = 3\n",
        "elif (new_data['Age'][0] > 45) & (new_data['Age'][0] <= 55):\n",
        "    new_data['Age_Category'] = 4\n",
        "elif (new_data['Age'][0] > 55) & (new_data['Age'][0] <= 65):\n",
        "    new_data['Age_Category'] = 5\n",
        "elif (new_data['Age'][0] > 65) & (new_data['Age'][0] <= 75):\n",
        "    new_data['Age_Category'] = 6\n",
        "elif (new_data['Age'][0] > 75) & (new_data['Age'][0] <= 85):\n",
        "    new_data['Age_Category'] = 7\n",
        "elif new_data['Age'][0] > 85:\n",
        "    new_data['Age_Category'] = 8\n",
        "\n",
        "new_data.pop('Age')\n",
        "new_data['PolyInteraction'] = new_data['Polyuria'][0] * new_data['Polydipsia'][0]"
      ]
    },
    {
      "cell_type": "code",
      "execution_count": 46,
      "metadata": {
        "colab": {
          "base_uri": "https://localhost:8080/"
        },
        "id": "l8qD-PqKbOCB",
        "outputId": "00e86761-a007-4d30-bd3b-ff2268a3140e"
      },
      "outputs": [
        {
          "data": {
            "text/plain": [
              "{'Gender': [1],\n",
              " 'Polyuria': [1],\n",
              " 'Polydipsia': [1],\n",
              " 'sudden weight loss': [0],\n",
              " 'weakness': [1],\n",
              " 'Polyphagia': [1],\n",
              " 'Genital thrush': [0],\n",
              " 'visual blurring': [1],\n",
              " 'Itching': [1],\n",
              " 'Irritability': [0],\n",
              " 'delayed healing': [1],\n",
              " 'partial paresis': [0],\n",
              " 'muscle stiffness': [1],\n",
              " 'Alopecia': [1],\n",
              " 'Obesity': [1],\n",
              " 'Age_Category': 4,\n",
              " 'PolyInteraction': 1}"
            ]
          },
          "execution_count": 46,
          "metadata": {},
          "output_type": "execute_result"
        }
      ],
      "source": [
        "new_data"
      ]
    },
    {
      "cell_type": "code",
      "execution_count": 47,
      "metadata": {
        "id": "yhKsRdGPbTUm"
      },
      "outputs": [],
      "source": [
        "# Konversi ke DataFrame\n",
        "new_data_df = pd.DataFrame(new_data)\n",
        "\n",
        "# Pilih hanya kolom numerik untuk transformasi\n",
        "numeric_columns = new_data_df.select_dtypes(include=[np.number]).columns\n",
        "new_data_numeric = new_data_df[numeric_columns]\n",
        "\n",
        "# Menerapkan transformasi PCA pada data baru\n",
        "new_data_std = scaler.transform(new_data_numeric)\n",
        "new_data_pca = pca.transform(new_data_std)"
      ]
    },
    {
      "cell_type": "code",
      "execution_count": 48,
      "metadata": {
        "colab": {
          "base_uri": "https://localhost:8080/"
        },
        "id": "tjWjEPcjWK1N",
        "outputId": "c2a6ac8a-0050-4b34-e317-1eb9e3b42db0"
      },
      "outputs": [
        {
          "name": "stdout",
          "output_type": "stream",
          "text": [
            "Hasil Prediksi Diabetes: Positive\n"
          ]
        }
      ],
      "source": [
        "# Prediksi terhadap data baru\n",
        "prediction = logreg_diab.predict(new_data_pca)\n",
        "predicted_class = prediction[0]\n",
        "predicted_class_original = label_encoder.inverse_transform([predicted_class])[0]\n",
        "print(f'Hasil Prediksi Diabetes: {predicted_class_original}')"
      ]
    }
  ],
  "metadata": {
    "colab": {
      "provenance": []
    },
    "kaggle": {
      "accelerator": "none",
      "dataSources": [
        {
          "datasetId": 228,
          "sourceId": 482,
          "sourceType": "datasetVersion"
        }
      ],
      "dockerImageVersionId": 30579,
      "isGpuEnabled": false,
      "isInternetEnabled": true,
      "language": "python",
      "sourceType": "notebook"
    },
    "kernelspec": {
      "display_name": "Python 3",
      "language": "python",
      "name": "python3"
    },
    "language_info": {
      "codemirror_mode": {
        "name": "ipython",
        "version": 3
      },
      "file_extension": ".py",
      "mimetype": "text/x-python",
      "name": "python",
      "nbconvert_exporter": "python",
      "pygments_lexer": "ipython3",
      "version": "3.10.1"
    }
  },
  "nbformat": 4,
  "nbformat_minor": 0
}
